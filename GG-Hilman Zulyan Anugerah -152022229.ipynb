{
 "cells": [
  {
   "cell_type": "code",
   "execution_count": 1,
   "metadata": {},
   "outputs": [
    {
     "name": "stdout",
     "output_type": "stream",
     "text": [
      "    Nama  Usia   Gaji\n",
      "0   John    25  52500\n",
      "1   Jane    35  63000\n",
      "2    Bob    30  73500\n",
      "3  Alice    28  57750\n"
     ]
    }
   ],
   "source": [
    "import pandas as pd\n",
    "\n",
    "data = {'Nama': ['John', 'Jane', 'Bob', 'Alice'],\n",
    "        'Usia': [25, 35, 30, 28],\n",
    "        'Gaji': [50000, 60000, 70000, 55000]}\n",
    "\n",
    "df = pd.DataFrame(data)\n",
    "\n",
    "# Fungsi lambda untuk menghitung gaji setelah peningkatan 5%\n",
    "hitung_gaji_baru = lambda gaji: gaji * 1.05\n",
    "\n",
    "# Loop for untuk menerapkan fungsi lambda pada setiap baris data\n",
    "for index, row in df.iterrows():\n",
    "    df.at[index, 'Gaji'] = hitung_gaji_baru(row['Gaji'])\n",
    "\n",
    "print(df)\n"
   ]
  },
  {
   "cell_type": "code",
   "execution_count": null,
   "metadata": {},
   "outputs": [],
   "source": [
    "import pandas as pd\n",
    "\n",
    "data = {'Nama': ['John', 'Jane', 'Bob', 'Alice'],\n",
    "        'Usia': [25, 35, 30, 28],\n",
    "        'Gaji': [50000, 60000, 70000, 55000]}\n",
    "\n",
    "df = pd.DataFrame(data)\n",
    "\n",
    "# Fungsi lambda untuk menghitung gaji setelah peningkatan 5%\n",
    "hitung_gaji_baru = lambda gaji: gaji * 1.05\n",
    "\n",
    "# Loop for untuk menerapkan fungsi lambda pada setiap baris data\n",
    "for index, row in df.iterrows():\n",
    "    gaji_lama = row['Gaji']\n",
    "    df.at[index, 'Gaji'] = hitung_gaji_baru(gaji_lama)\n",
    "\n",
    "# Menampilkan DataFrame yang sudah diperbarui\n",
    "print(\"DataFrame setelah diperbarui:\")\n",
    "print(df)\n",
    "\n",
    "# Ringkasan perubahan\n",
    "perubahan = df['Gaji'] - data['Gaji']\n",
    "ringkasan_perubahan = pd.DataFrame({\n",
    "    'Nama': df['Nama'],\n",
    "    'Perubahan Gaji': perubahan\n",
    "})\n",
    "\n",
    "print(\"\\nRingkasan Perubahan Gaji:\")\n",
    "print(ringkasan_perubahan)\n"
   ]
  },
  {
   "cell_type": "code",
   "execution_count": 2,
   "metadata": {},
   "outputs": [
    {
     "name": "stdout",
     "output_type": "stream",
     "text": [
      "DataFrame setelah diperbarui:\n",
      "    Nama  Usia   Gaji\n",
      "0   John    25  52500\n",
      "1   Jane    35  64260\n",
      "2    Bob    30  73500\n",
      "3  Alice    28  57750\n"
     ]
    }
   ],
   "source": [
    "import pandas as pd\n",
    "\n",
    "data = {'Nama': ['John', 'Jane', 'Bob', 'Alice'],\n",
    "        'Usia': [25, 35, 30, 28],\n",
    "        'Gaji': [50000, 60000, 70000, 55000]}\n",
    "\n",
    "df = pd.DataFrame(data)\n",
    "\n",
    "# Fungsi lambda untuk menghitung gaji setelah peningkatan 5%\n",
    "hitung_gaji_baru = lambda gaji: gaji * 1.05\n",
    "\n",
    "# Fungsi lambda untuk menghitung gaji setelah peningkatan tambahan 2% jika usia di atas 30 tahun\n",
    "hitung_gaji_tambahan = lambda gaji, usia: gaji * 1.02 if usia > 30 else gaji\n",
    "\n",
    "# Loop for untuk menerapkan fungsi lambda pada setiap baris data\n",
    "for index, row in df.iterrows():\n",
    "    gaji_lama = row['Gaji']\n",
    "    usia = row['Usia']\n",
    "    gaji_setelah_peningkatan = hitung_gaji_baru(gaji_lama)\n",
    "    df.at[index, 'Gaji'] = hitung_gaji_tambahan(gaji_setelah_peningkatan, usia)\n",
    "\n",
    "# Menampilkan DataFrame yang sudah diperbarui\n",
    "print(\"DataFrame setelah diperbarui:\")\n",
    "print(df)\n"
   ]
  },
  {
   "cell_type": "code",
   "execution_count": null,
   "metadata": {},
   "outputs": [],
   "source": [
    "import pandas as pd\n",
    "\n",
    "data = {'Nama': ['John', 'Jane', 'Bob', 'Alice'],\n",
    "        'Usia': [25, 35, 30, 28],\n",
    "        'Gaji': [50000, 60000, 70000, 55000]}\n",
    "\n",
    "df = pd.DataFrame(data)\n",
    "\n",
    "# Fungsi lambda untuk menghitung gaji setelah peningkatan 5%\n",
    "hitung_gaji_baru = lambda gaji: gaji * 1.05\n",
    "\n",
    "# Fungsi lambda untuk menghitung gaji setelah peningkatan tambahan 2% jika usia di atas 30 tahun\n",
    "hitung_gaji_tambahan = lambda gaji, usia: gaji * 1.02 if usia > 30 else gaji\n",
    "\n",
    "# Loop for untuk menerapkan fungsi lambda pada setiap baris data\n",
    "for index, row in df.iterrows():\n",
    "    gaji_lama = row['Gaji']\n",
    "    usia = row['Usia']\n",
    "    gaji_setelah_peningkatan = hitung_gaji_baru(gaji_lama)\n",
    "    df.at[index, 'Gaji'] = hitung_gaji_tambahan(gaji_setelah_peningkatan, usia)\n",
    "\n",
    "# Menampilkan DataFrame yang sudah diperbarui\n",
    "print(\"DataFrame setelah diperbarui:\")\n",
    "print(df)\n",
    "\n",
    "# Ringkasan hasil\n",
    "ringkasan_hasil = pd.DataFrame({\n",
    "    'Nama': df['Nama'],\n",
    "    'Usia': df['Usia'],\n",
    "    'Gaji Setelah Peningkatan': df['Gaji']\n",
    "})\n",
    "\n",
    "print(\"\\nRingkasan Hasil Peningkatan Gaji:\")\n",
    "print(ringkasan_hasil)\n"
   ]
  }
 ],
 "metadata": {
  "kernelspec": {
   "display_name": "Python 3",
   "language": "python",
   "name": "python3"
  },
  "language_info": {
   "codemirror_mode": {
    "name": "ipython",
    "version": 3
   },
   "file_extension": ".py",
   "mimetype": "text/x-python",
   "name": "python",
   "nbconvert_exporter": "python",
   "pygments_lexer": "ipython3",
   "version": "3.12.0"
  }
 },
 "nbformat": 4,
 "nbformat_minor": 2
}
